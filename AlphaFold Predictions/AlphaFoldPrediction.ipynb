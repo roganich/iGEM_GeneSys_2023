{
 "cells": [
  {
   "cell_type": "code",
   "execution_count": 4,
   "id": "03fd22f4",
   "metadata": {},
   "outputs": [],
   "source": [
    "import requests\n",
    "import json\n",
    "\n",
    "def predict_protein_structure(protein_sequence):\n",
    "  \"\"\"Predicts the structure of a protein using AlphaFold.\n",
    "\n",
    "  Args:\n",
    "    protein_sequence: The amino acid sequence of the protein.\n",
    "\n",
    "  Returns:\n",
    "    The predicted structure of the protein as a string.\n",
    "  \"\"\"\n",
    "\n",
    "  url = \"https://alphafold.ebi.ac.uk/api/structures/prediction\"\n",
    "  headers = {\"Content-Type\": \"application/json\"}\n",
    "  data = {\"sequence\": protein_sequence}\n",
    "\n",
    "  response = requests.post(url, headers=headers, data=json.dumps(data))\n",
    "  if response.status_code == 200:\n",
    "    return response.json()[\"prediction\"]\n",
    "  else:\n",
    "    raise ValueError(f\"Failed to predict protein structure: {response.status_code}\")\n"
   ]
  },
  {
   "cell_type": "code",
   "execution_count": 5,
   "id": "92ef9b6e",
   "metadata": {},
   "outputs": [
    {
     "ename": "ValueError",
     "evalue": "Failed to predict protein structure: 404",
     "output_type": "error",
     "traceback": [
      "\u001b[1;31m---------------------------------------------------------------------------\u001b[0m",
      "\u001b[1;31mValueError\u001b[0m                                Traceback (most recent call last)",
      "Cell \u001b[1;32mIn[5], line 2\u001b[0m\n\u001b[0;32m      1\u001b[0m protein_sequence \u001b[38;5;241m=\u001b[39m \u001b[38;5;124m\"\u001b[39m\u001b[38;5;124mMETTVRYEQGSELTKTSSSPTADEPTIKIDDGRDEGNEQDSCSNTIRRKISPFVMSFGFRVFGVVLIIVDIIVVIVDLAISEKKRGIREILEGVSLAIALFFLVDVLMRVFVEGFKNYFRSKLNTLDAVIVVGTLLINMTYSFSDLADYDRKLIIDQNVFIEGTLPMGVVRPLTEVEMDHYREPFLNPVDREPLWRFPNELPIAGEPANIVALVEEYMDWLHQSPVPKLLFWGTPGVLIPPAEAARLAKSLPNCKAVDIGPGLNLLQEDNPDLIGSEIARWLSTLEISGEPTTGGSGGTGGSGGTGGSMAEIGTGFPFDPHYVEVLGERMHYVDVGPRDGTPVLFLHGNPTSSYVWRNIIPHVAPTHRCIAPDLIGMGKSDKPDLGYFFDDHVRFMDAFIEALGLEEVVLVIHDWGSALGFHWAKRNPERVKGIAFMEFIRPIPTWDEWPEFARETFQWFRTTDEMPQMVTLLRVLRIVILIRIFRLASQKKQLEVVTGGSKSRITSEGEYIPLDQIDINVFCYENEVQSQPILNTKEMAPQSKPPEELEMSSMPSPVAPLPARTEGVIDMRSMSSIDSFISCATDFPEATRF\u001b[39m\u001b[38;5;124m\"\u001b[39m\n\u001b[1;32m----> 2\u001b[0m \u001b[43mpredict_protein_structure\u001b[49m\u001b[43m(\u001b[49m\u001b[43mprotein_sequence\u001b[49m\u001b[43m)\u001b[49m\n",
      "Cell \u001b[1;32mIn[4], line 22\u001b[0m, in \u001b[0;36mpredict_protein_structure\u001b[1;34m(protein_sequence)\u001b[0m\n\u001b[0;32m     20\u001b[0m   \u001b[38;5;28;01mreturn\u001b[39;00m response\u001b[38;5;241m.\u001b[39mjson()[\u001b[38;5;124m\"\u001b[39m\u001b[38;5;124mprediction\u001b[39m\u001b[38;5;124m\"\u001b[39m]\n\u001b[0;32m     21\u001b[0m \u001b[38;5;28;01melse\u001b[39;00m:\n\u001b[1;32m---> 22\u001b[0m   \u001b[38;5;28;01mraise\u001b[39;00m \u001b[38;5;167;01mValueError\u001b[39;00m(\u001b[38;5;124mf\u001b[39m\u001b[38;5;124m\"\u001b[39m\u001b[38;5;124mFailed to predict protein structure: \u001b[39m\u001b[38;5;132;01m{\u001b[39;00mresponse\u001b[38;5;241m.\u001b[39mstatus_code\u001b[38;5;132;01m}\u001b[39;00m\u001b[38;5;124m\"\u001b[39m)\n",
      "\u001b[1;31mValueError\u001b[0m: Failed to predict protein structure: 404"
     ]
    }
   ],
   "source": [
    "\n",
    "protein_sequence = \"METTVRYEQGSELTKTSSSPTADEPTIKIDDGRDEGNEQDSCSNTIRRKISPFVMSFGFRVFGVVLIIVDIIVVIVDLAISEKKRGIREILEGVSLAIALFFLVDVLMRVFVEGFKNYFRSKLNTLDAVIVVGTLLINMTYSFSDLADYDRKLIIDQNVFIEGTLPMGVVRPLTEVEMDHYREPFLNPVDREPLWRFPNELPIAGEPANIVALVEEYMDWLHQSPVPKLLFWGTPGVLIPPAEAARLAKSLPNCKAVDIGPGLNLLQEDNPDLIGSEIARWLSTLEISGEPTTGGSGGTGGSGGTGGSMAEIGTGFPFDPHYVEVLGERMHYVDVGPRDGTPVLFLHGNPTSSYVWRNIIPHVAPTHRCIAPDLIGMGKSDKPDLGYFFDDHVRFMDAFIEALGLEEVVLVIHDWGSALGFHWAKRNPERVKGIAFMEFIRPIPTWDEWPEFARETFQWFRTTDEMPQMVTLLRVLRIVILIRIFRLASQKKQLEVVTGGSKSRITSEGEYIPLDQIDINVFCYENEVQSQPILNTKEMAPQSKPPEELEMSSMPSPVAPLPARTEGVIDMRSMSSIDSFISCATDFPEATRF\"\n",
    "predict_protein_structure(protein_sequence)\n"
   ]
  },
  {
   "cell_type": "code",
   "execution_count": 6,
   "id": "7fafbe8b",
   "metadata": {},
   "outputs": [
    {
     "data": {
      "text/plain": [
       "CompletedProcess(args='python run_alphafold.py --fasta-path=prototype.fasta', returncode=1)"
      ]
     },
     "execution_count": 6,
     "metadata": {},
     "output_type": "execute_result"
    }
   ],
   "source": [
    "import subprocess\n",
    "command=\"python run_alphafold.py --fasta-path=prototype.fasta\"\n",
    "subprocess.run(command, shell=True)"
   ]
  },
  {
   "cell_type": "code",
   "execution_count": 9,
   "id": "71c6d87d",
   "metadata": {},
   "outputs": [
    {
     "data": {
      "text/plain": [
       "CompletedProcess(args='pip install biolib', returncode=0)"
      ]
     },
     "execution_count": 9,
     "metadata": {},
     "output_type": "execute_result"
    }
   ],
   "source": [
    "import subprocess\n",
    "command=\"pip install biolib\"\n",
    "subprocess.run(command, shell=True)"
   ]
  },
  {
   "cell_type": "code",
   "execution_count": 15,
   "id": "a3f7d27c",
   "metadata": {},
   "outputs": [
    {
     "ename": "AttributeError",
     "evalue": "module 'biolib' has no attribute 'load'",
     "output_type": "error",
     "traceback": [
      "\u001b[1;31m---------------------------------------------------------------------------\u001b[0m",
      "\u001b[1;31mAttributeError\u001b[0m                            Traceback (most recent call last)",
      "Cell \u001b[1;32mIn[15], line 2\u001b[0m\n\u001b[0;32m      1\u001b[0m \u001b[38;5;28;01mimport\u001b[39;00m \u001b[38;5;21;01mbiolib\u001b[39;00m\n\u001b[1;32m----> 2\u001b[0m alphafold \u001b[38;5;241m=\u001b[39m \u001b[43mbiolib\u001b[49m\u001b[38;5;241;43m.\u001b[39;49m\u001b[43mload\u001b[49m(\u001b[38;5;124m'\u001b[39m\u001b[38;5;124mAlphaFold/alphafold\u001b[39m\u001b[38;5;124m'\u001b[39m)\n",
      "\u001b[1;31mAttributeError\u001b[0m: module 'biolib' has no attribute 'load'"
     ]
    }
   ],
   "source": [
    "import biolib\n",
    "alphafold = biolib.load('AlphaFold/alphafold')"
   ]
  }
 ],
 "metadata": {
  "kernelspec": {
   "display_name": "Python 3 (ipykernel)",
   "language": "python",
   "name": "python3"
  },
  "language_info": {
   "codemirror_mode": {
    "name": "ipython",
    "version": 3
   },
   "file_extension": ".py",
   "mimetype": "text/x-python",
   "name": "python",
   "nbconvert_exporter": "python",
   "pygments_lexer": "ipython3",
   "version": "3.10.9"
  }
 },
 "nbformat": 4,
 "nbformat_minor": 5
}
