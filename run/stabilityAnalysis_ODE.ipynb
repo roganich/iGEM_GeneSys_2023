{
 "cells": [
  {
   "cell_type": "code",
   "execution_count": null,
   "metadata": {},
   "outputs": [
    {
     "ename": "",
     "evalue": "",
     "output_type": "error",
     "traceback": [
      "\u001b[1;31mNo se pudo iniciar el Kernel. \n",
      "\u001b[1;31mEl Kernel Python 3.10.0 no se puede usar. Compruebe la pestaña de salida de Jupyter para obtener más información. \n",
      "\u001b[1;31mVea el [registro] de Jupyter (command:jupyter.viewOutput) para obtener más detalles."
     ]
    }
   ],
   "source": [
    "import sympy as sym\n",
    "import os, glob"
   ]
  },
  {
   "cell_type": "code",
   "execution_count": null,
   "metadata": {},
   "outputs": [],
   "source": [
    "p_NahR, C_mNahR, p_LuxI, AHL, p_LuxR, C_LuxRAHL, p_mtrC = sym.symbols('p_NahR C_mNahR p_LuxI AHL p_LuxR C_LuxRAHL p_mtrC')\n",
    "sigma_pNahR, sigma_rNahR, gamma_rNahR, gamma_pNahR, beta_mNahR, K_mNahR, sigma_pLuxI, gamma_rLuxI, alpha_LuxI, beta_LuxI, K_LuxI, h_LuxI, gamma_pLuxI, eta_pLuxI, beta_LuxRAHL, K_LuxRAKL, sigma_pLuxR, sigma_rLuxR, gamma_rLuxR, gamma_pLuxR, sigma_pmtrC, gamma_rmtrC, alpha_mtrC, beta_mtrC, K_mtrC, h_LuxRAHL, gamma_mtrC = sym.symbols('sigma_pNahR sigma_rNahR gamma_rNahR gamma_pNahR beta_mNahR K_mNahR sigma_pLuxI gamma_rLuxI alpha_LuxI beta_LuxI K_LuxI h_LuxI gamma_pLuxI eta_pLuxI beta_LuxRAHL K_LuxRAKL sigma_pLuxR sigma_rLuxR gamma_rLuxR gamma_pLuxR sigma_pmtrC gamma_rmtrC alpha_mtrC beta_mtrC K_mtrC h_LuxRAHL gamma_mtrC')\n",
    "\n",
    "dp_Nahrdt = sigma_pNahR*(sigma_rNahR/gamma_rNahR) - gamma_pNahR*p_NahR - beta_mNahR/(K_mNahR + p_NahR)\n",
    "dC_mNahRdt = beta_mNahR/(K_mNahR + p_NahR)\n",
    "dp_LuxIdt = sigma_pLuxI/gamma_rLuxI*(alpha_LuxI+ (beta_LuxI*C_mNahR/(K_LuxI+C_LuxRAHL**h_LuxI))) - gamma_pLuxI*p_LuxI - eta_pLuxI*p_LuxI\n",
    "dAHLdtdt = eta_pLuxI*p_LuxI - beta_LuxRAHL*AHL/(K_LuxRAKL + AHL)\n",
    "dp_LuxRdt = sigma_pLuxR*(sigma_rLuxR/gamma_rLuxR) - gamma_pLuxR*p_LuxR\n",
    "dC_luxRAHLdt = beta_LuxRAHL*AHL/(K_LuxRAKL + AHL)\n",
    "dp_mtrCdt = (sigma_pmtrC/gamma_rmtrC)*(alpha_mtrC + (beta_mtrC*C_LuxRAHL/(K_mtrC + C_LuxRAHL**h_LuxRAHL))) - gamma_mtrC*p_mtrC\n",
    "\n"
   ]
  }
 ],
 "metadata": {
  "kernelspec": {
   "display_name": "Python 3",
   "language": "python",
   "name": "python3"
  },
  "language_info": {
   "name": "python",
   "version": "3.10.0"
  },
  "orig_nbformat": 4,
  "vscode": {
   "interpreter": {
    "hash": "aee8b7b246df8f9039afb4144a1f6fd8d2ca17a180786b69acc140d282b71a49"
   }
  }
 },
 "nbformat": 4,
 "nbformat_minor": 2
}
